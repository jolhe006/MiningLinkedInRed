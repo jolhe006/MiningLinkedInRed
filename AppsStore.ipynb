{
  "cells": [
    {
      "metadata": {
        "_uuid": "8f2839f25d086af736a60e9eeb907d3b93b6e0e5",
        "_cell_guid": "b1076dfc-b9ad-4769-8c92-a6c4dae69d19",
        "trusted": true,
        "collapsed": true
      },
      "cell_type": "code",
      "source": "# This Python 3 environment comes with many helpful analytics libraries installed\n# It is defined by the kaggle/python docker image: https://github.com/kaggle/docker-python\n# For example, here's several helpful packages to load in \n\nimport numpy as np # linear algebra\nimport pandas as pd # data processing, CSV file I/O (e.g. pd.read_csv)\nimport matplotlib.pyplot as plt\n\n# Input data files are available in the \"../input/\" directory.\n# For example, running this (by clicking run or pressing Shift+Enter) will list the files in the input directory\n\nimport os\nprint(os.listdir(\"../input\"))\n\n# Any results you write to the current directory are saved as output.",
      "execution_count": null,
      "outputs": []
    },
    {
      "metadata": {
        "_cell_guid": "79c7e3d0-c299-4dcb-8224-4455121ee9b0",
        "_uuid": "d629ff2d2480ee46fbb7e2d37f6b5fab8052498a",
        "trusted": true,
        "collapsed": true
      },
      "cell_type": "code",
      "source": "AppleStore = pd.read_csv('../input/AppleStore.csv')",
      "execution_count": null,
      "outputs": []
    },
    {
      "metadata": {
        "trusted": true,
        "_uuid": "be10e8fc53ee17eed6cd26867aec8fc5d3a47718",
        "collapsed": true
      },
      "cell_type": "code",
      "source": "AppleStore.head()",
      "execution_count": null,
      "outputs": []
    },
    {
      "metadata": {
        "trusted": true,
        "_uuid": "0849665798b808cd841ee9d8e8ed09ec3366925c",
        "collapsed": true
      },
      "cell_type": "code",
      "source": "AppleStore.describe()",
      "execution_count": null,
      "outputs": []
    },
    {
      "metadata": {
        "trusted": true,
        "_uuid": "cd2c24873e8210c563a311273d6402d6c81a00a4",
        "collapsed": true
      },
      "cell_type": "code",
      "source": "AppsGratis = AppleStore.price <= 0\nAppsPaga = AppleStore.price > 0\n#print(AppleStore[AppsGratis].head())\n#print(AppleStore[AppsPaga].head())\nAppleStore.price.count()\n",
      "execution_count": null,
      "outputs": []
    },
    {
      "metadata": {
        "_kg_hide-input": false,
        "_kg_hide-output": false,
        "trusted": true,
        "_uuid": "ef59d580d4d929a8d6f62c2bc3c11f1b150c0bb1",
        "collapsed": true
      },
      "cell_type": "code",
      "source": "AppleStoreByPrice = pd.DataFrame({'precio': [ AppleStore[AppsGratis].price.count(), AppleStore[AppsPaga].price.count()]}, index=['Paga', 'Gratis'])\nAppleStoreByPrice",
      "execution_count": null,
      "outputs": []
    },
    {
      "metadata": {
        "trusted": true,
        "_uuid": "5a71bca6fc1a5ae4b19c1a8707a479adc9d89049",
        "collapsed": true
      },
      "cell_type": "code",
      "source": "plot = AppleStoreByPrice.plot.pie(y='precio', figsize=(10, 10), autopct='%1.1f%%')",
      "execution_count": null,
      "outputs": []
    },
    {
      "metadata": {
        "trusted": true,
        "_uuid": "d1b2d31b6d7911429f7d4b0cb4cd85bda97d37fd",
        "collapsed": true
      },
      "cell_type": "code",
      "source": "#AppleStore.plot(subplots=True, layout=(2, -1), figsize=(6, 6), sharex=False)\n\nfig, axes = plt.subplots(nrows=1, ncols=2, figsize=(20, 5))\nAppleStore[AppleStore.price<=AppleStore.price.describe()['75%']].price.plot.hist(ax=axes[0], bins=10); axes[0].set_title('75%-'); axes[0].set_xlabel('Precio'); axes[0].set_ylabel('# Apps');\n\nAppleStore[AppleStore.price>AppleStore.price.describe()['75%']].price.plot.hist(ax=axes[1], bins=10); axes[1].set_title('75%+'); axes[1].set_xlabel('Precio'); axes[1].set_ylabel('# Apps');\n",
      "execution_count": null,
      "outputs": []
    },
    {
      "metadata": {
        "trusted": true,
        "_uuid": "9be0f6d548e98591718f687936e5111b30ea9ae8",
        "collapsed": true
      },
      "cell_type": "code",
      "source": "\naxes = plt.subplots(1, 2, figsize=(20, 10));\n#AppleStore[AppleStore.price>AppleStore.price.describe()['75%']].price.plot.hist(subplots=True, layout=(0,2), figsize=(20, 10), sharex=False);\n#AppleStore[AppleStore.price>AppleStore.price.describe()['75%']].price.plot.hist(subplots=True, layout=(2,0), figsize=(20, 10), sharex=False);\n#AppleStore[AppleStore.price>AppleStore.price.describe()['75%']].price.plot(ax=axes[0][0], bins=12, alpha=0.5, subplots=True)\n#AppleStore[AppleStore.price<=AppleStore.price.describe()['75%']].price.plot(bins=12, alpha=0.5, subplots=True)\n\nAppleStore[AppleStore.price<=AppleStore.price.describe()['75%']].price.plot.hist(subplots=True, figsize=(0, 0))\nAppleStore[AppleStore.price>AppleStore.price.describe()['75%']].price.plot.hist(subplots=True, figsize=(1, 1))",
      "execution_count": null,
      "outputs": []
    },
    {
      "metadata": {
        "trusted": true,
        "_uuid": "a2006777bdcd4dec46979dc4b4ad22de6ef4cea4",
        "collapsed": true
      },
      "cell_type": "code",
      "source": "AppleStorePorcentajes = pd.DataFrame({\n                                      '25%': [AppleStore.loc[ AppleStore.price<=AppleStore.price.describe()['25%']].price]\n                                     })\n\n'''\n                                      '50%': [AppleStore.loc[ (AppleStore.price>AppleStore.price.describe()['25%']) & (AppleStore.price<=AppleStore.price.describe()['50%']) ]],\n                                      '75%': [AppleStore.loc[ (AppleStore.price>AppleStore.price.describe()['50%']) & (AppleStore.price<=AppleStore.price.describe()['75%']) ]],\n                                      '100%': [AppleStore.loc[AppleStore.price>=AppleStore.price.describe()['75%']]]\n'''\nAppleStorePorcentajes.head()",
      "execution_count": null,
      "outputs": []
    },
    {
      "metadata": {
        "trusted": true,
        "_uuid": "7b3f892af9c9f12dce05c6ed1c2ac262234a4334",
        "collapsed": true
      },
      "cell_type": "code",
      "source": "hist2 = AppleStore[AppleStore.price<AppleStore.price.describe()['75%']].price.plot.hist(bins=100, alpha=0.5, by='price')",
      "execution_count": null,
      "outputs": []
    },
    {
      "metadata": {
        "trusted": true,
        "_uuid": "4b163ac7d1fe25b6066308adbca6cdcf6a854ebc",
        "collapsed": true
      },
      "cell_type": "code",
      "source": "from pandas.plotting import scatter_matrix\nscatter_matrix(AppleStore, alpha=0.2, figsize=(6, 6), diagonal='kde')",
      "execution_count": null,
      "outputs": []
    }
  ],
  "metadata": {
    "kernelspec": {
      "display_name": "Python 3",
      "language": "python",
      "name": "python3"
    },
    "language_info": {
      "name": "python",
      "version": "3.6.4",
      "mimetype": "text/x-python",
      "codemirror_mode": {
        "name": "ipython",
        "version": 3
      },
      "pygments_lexer": "ipython3",
      "nbconvert_exporter": "python",
      "file_extension": ".py"
    }
  },
  "nbformat": 4,
  "nbformat_minor": 1
}